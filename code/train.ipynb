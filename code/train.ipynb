{
 "cells": [
  {
   "cell_type": "code",
   "execution_count": null,
   "metadata": {},
   "outputs": [],
   "source": [
    "from torchtune.models.gemma import gemma_tokenizer\n",
    "\n",
    "# Initialize the gemma tokenizer from a saved file\n",
    "tokenizer = gemma_tokenizer(\n",
    "    path=\"/tmp/models/gemma-2b/tokenizer.model\",\n",
    "    max_seq_len=512)\n",
    "\n",
    "# Let's feed some text to the tokenizer to see that it's working\n",
    "text = \"Llamas are awesome!\"\n",
    "tokenized_text = tokenizer.encode(text)\n",
    "print(\"Token IDs:  \", tokenized_text)\n",
    "\n",
    "# Let's decode the tokens back to normal text one by one to see what they each represent\n",
    "chars_per_token = []\n",
    "for token in tokenized_text:\n",
    "    chars_per_token.append(tokenizer.decode(token))\n",
    "\n",
    "print(\"Characters: \", chars_per_token)"
   ]
  }
 ],
 "metadata": {
  "kernelspec": {
   "display_name": "prompt-engineering-project",
   "language": "python",
   "name": "python3"
  },
  "language_info": {
   "name": "python",
   "version": "3.12.0"
  }
 },
 "nbformat": 4,
 "nbformat_minor": 2
}
